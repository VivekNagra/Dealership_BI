{
 "cells": [
  {
   "cell_type": "code",
   "execution_count": null,
   "metadata": {},
   "outputs": [],
   "source": [
    "!pip install streamlit"
   ]
  },
  {
   "cell_type": "code",
   "execution_count": null,
   "metadata": {},
   "outputs": [],
   "source": [
    "!streamlit hello"
   ]
  },
  {
   "cell_type": "code",
   "execution_count": null,
   "metadata": {},
   "outputs": [],
   "source": [
    "import streamlit as st\n",
    "import pandas as pd\n",
    "import numpy as np\n",
    "from sklearn.preprocessing import StandardScaler\n",
    "from joblib import load\n",
    "\n",
    "# Load your trained models\n",
    "log_reg_model = load('logistic_regression_model.pkl')\n",
    "rf_model = load('random_forest_model.pkl')\n",
    "kmeans_model = load('kmeans_model.pkl')\n",
    "\n",
    "# Function to process user input\n",
    "def process_input(user_data):\n",
    "    # Convert user data into numpy array\n",
    "    user_data_np = np.array(user_data).reshape(1, -1)\n",
    "    \n",
    "    # Scale the user data\n",
    "    scaler = StandardScaler()\n",
    "    user_data_scaled = scaler.fit_transform(user_data_np)\n",
    "    \n",
    "    return user_data_scaled\n",
    "\n",
    "# Initialize the Streamlit app\n",
    "st.title('Car Sales Prediction App')\n",
    "\n",
    "# Collect user inputs for each feature\n",
    "annual_income = st.number_input('Annual Income', min_value=10000, max_value=1000000, value=50000)\n",
    "price = st.number_input('Car Price', min_value=1000, max_value=100000, value=20000)\n",
    "\n",
    "# Process the input for prediction\n",
    "user_data_processed = process_input([annual_income, price])\n",
    "\n",
    "# Predict button\n",
    "if st.button('Predict'):\n",
    "    # Make predictions using the logistic regression and random forest models\n",
    "    log_reg_pred = log_reg_model.predict(user_data_processed)\n",
    "    rf_pred = rf_model.predict(user_data_processed)\n",
    "    \n",
    "    # Use K-Means model to determine the cluster\n",
    "    cluster = kmeans_model.predict(user_data_processed)\n",
    "    \n",
    "    # Display predictions\n",
    "    st.write(f'Logistic Regression Prediction (Sale Likelihood): {log_reg_pred[0]}')\n",
    "    st.write(f'Random Forest Prediction (Sale Likelihood): {rf_pred[0]}')\n",
    "    st.write(f'Customer Segment (Cluster): {cluster[0]}')\n",
    "\n"
   ]
  }
 ],
 "metadata": {
  "language_info": {
   "name": "python"
  }
 },
 "nbformat": 4,
 "nbformat_minor": 2
}
